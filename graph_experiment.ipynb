import csv
import networkx as nx
import matplotlib.pyplot as plt
from matplotlib import pylab
import plotly.graph_objects as go
   

class GraphVisualization:
   
    def __init__(self):
          
        # visual is a list which stores all 
        # the set of edges that constitutes a
        # graph
        self.visual = []
          
    # addEdge function inputs the vertices of an
    # edge and appends it to the visual list
    def addEdge(self, a, b):
        temp = [a, b]
        self.visual.append(temp)
          
    # In visualize function G is an object of
    # class Graph given by networkx G.add_edges_from(visual)
    # creates a graph with a given list
    # nx.draw_networkx(G) - plots the graph
    # plt.show() - displays the graph
    def visualize(self):
        G = nx.Graph()
        G.add_edges_from(self.visual)
        nx.draw_networkx(G)
        #plt.figure(num=None, figsize=(100, 100), dpi=80)
        plt.savefig(r'C:\Users\adair\OneDrive\Desktop\test.png',figsize=(100,100), dpi=2000)
        plt.show()
